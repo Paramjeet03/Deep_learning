{
 "cells": [
  {
   "cell_type": "markdown",
   "id": "66ab7e3f-929f-4398-b7c7-b67506d32f0f",
   "metadata": {},
   "source": [
    "# Loss Function :-\n",
    "## A loss function measures how good a neural network model is in performing a certain task, which in most cases is regression or classification. We always try to minimize the value of the loss function .\n",
    "# _____________________________________________________________________"
   ]
  },
  {
   "cell_type": "markdown",
   "id": "cda21ce2",
   "metadata": {},
   "source": [
    "# Loss v/s Cost Function :-\n",
    "## When loss calculate on single data then it says to be loss func. but on otherhand it calculate on whole data set it says to be cost func.\n",
    "<a href=\"http://ibb.co/f8Epqx\"><img src=\"https://miro.medium.com/v2/resize:fit:569/1*gZ9IpHVsiWOYzUks98pd0Q.png\" alt=\"2\" border=\"0\"></a>\n"
   ]
  },
  {
   "cell_type": "markdown",
   "id": "89ecb5ce-9823-4d63-adc7-8fa19b75c8b8",
   "metadata": {},
   "source": [
    "# There are many types of lost function some most frequantly use in industry are given below :-\n",
    "\n",
    "## 1> Binary Crossentropy\n",
    "\n",
    "## 2> Categorical Crossentropy\n",
    "\n",
    "## 3> Mean Squared Error (MSE)\n",
    "\n",
    "## 4> Mean Absolute Error (MAE)\n",
    "\n",
    "## 5> Huber Loss"
   ]
  },
  {
   "cell_type": "markdown",
   "id": "9bfacb45-7cb3-4169-a0d3-b9b679b7ed75",
   "metadata": {},
   "source": [
    "# __________________________________________________________________\n",
    "#\n",
    "# 1>Binary Crossentropy :-\n",
    "## -> Binary Cross Entropy is a method used to measure how well a model is doing at predicting the correct outcome when there are only two possible classes (like \"yes\" or \"no\", \"spam\" or \"not spam\", etc.).\n",
    "<pre><h1>                          OR                               </h1></pre>\n",
    "## -> Binary Crossentropy is a loss function commonly used in binary classification tasks in machine learning and deep learning. It measures the difference between two probability distributions: the predicted probability distribution output by a model and the actual distribution represented by the labels.\n",
    "\n",
    "# Note: Binary cross entropy always used with two classes in our datasets. for : \"spam\",\"not spam\" kind of class."
   ]
  },
  {
   "cell_type": "markdown",
   "id": "1f030f7f-d675-486e-aa7f-5b4d968a8dae",
   "metadata": {
    "tags": []
   },
   "source": [
    "# Formula used by Binary Crossentropy :- \n",
    "\n",
    "<a href=\"http://ibb.co/f8Epqx\"><img src=\"https://arize.com/wp-content/uploads/2022/11/log-loss-1.png\" alt=\"2\" border=\"0\"></a>\n",
    "\n",
    "# Where:-\n",
    "# * N is total no. of datapoints.\n",
    "# * y is the true label (either 0 or 1).\n",
    "# * p is the predicted probability of the positive class.\n",
    "\n",
    "# Note :- Output layer must have sigmoid\n"
   ]
  },
  {
   "cell_type": "markdown",
   "id": "4c046e08-77e2-4c91-a5f4-1ac18a41a5b9",
   "metadata": {},
   "source": [
    "# Code :-"
   ]
  },
  {
   "cell_type": "code",
   "execution_count": 1,
   "id": "4503c545-16b9-4e3b-a64f-716c4bb4a730",
   "metadata": {
    "tags": []
   },
   "outputs": [
    {
     "name": "stdout",
     "output_type": "stream",
     "text": [
      "WARNING:tensorflow:From C:\\Users\\Paramjeet\\anaconda3\\lib\\site-packages\\keras\\src\\losses.py:2976: The name tf.losses.sparse_softmax_cross_entropy is deprecated. Please use tf.compat.v1.losses.sparse_softmax_cross_entropy instead.\n",
      "\n",
      "WARNING:tensorflow:From C:\\Users\\Paramjeet\\anaconda3\\lib\\site-packages\\keras\\src\\backend.py:873: The name tf.get_default_graph is deprecated. Please use tf.compat.v1.get_default_graph instead.\n",
      "\n",
      "Epoch 1/50\n",
      "WARNING:tensorflow:From C:\\Users\\Paramjeet\\anaconda3\\lib\\site-packages\\keras\\src\\utils\\tf_utils.py:492: The name tf.ragged.RaggedTensorValue is deprecated. Please use tf.compat.v1.ragged.RaggedTensorValue instead.\n",
      "\n",
      "WARNING:tensorflow:From C:\\Users\\Paramjeet\\anaconda3\\lib\\site-packages\\keras\\src\\engine\\base_layer_utils.py:384: The name tf.executing_eagerly_outside_functions is deprecated. Please use tf.compat.v1.executing_eagerly_outside_functions instead.\n",
      "\n",
      "8/8 [==============================] - 1s 31ms/step - loss: 9.7147 - accuracy: 0.3681 - val_loss: 7.9336 - val_accuracy: 0.3956\n",
      "Epoch 2/50\n",
      "8/8 [==============================] - 0s 7ms/step - loss: 3.0386 - accuracy: 0.3544 - val_loss: 0.8603 - val_accuracy: 0.1538\n",
      "Epoch 3/50\n",
      "8/8 [==============================] - 0s 7ms/step - loss: 0.8042 - accuracy: 0.3544 - val_loss: 0.8253 - val_accuracy: 0.5604\n",
      "Epoch 4/50\n",
      "8/8 [==============================] - 0s 6ms/step - loss: 0.7778 - accuracy: 0.6126 - val_loss: 0.8159 - val_accuracy: 0.6044\n",
      "Epoch 5/50\n",
      "8/8 [==============================] - 0s 6ms/step - loss: 0.7372 - accuracy: 0.6236 - val_loss: 0.7522 - val_accuracy: 0.6044\n",
      "Epoch 6/50\n",
      "8/8 [==============================] - 0s 5ms/step - loss: 0.6614 - accuracy: 0.6346 - val_loss: 0.6712 - val_accuracy: 0.5934\n",
      "Epoch 7/50\n",
      "8/8 [==============================] - 0s 7ms/step - loss: 0.5866 - accuracy: 0.7418 - val_loss: 0.5952 - val_accuracy: 0.6374\n",
      "Epoch 8/50\n",
      "8/8 [==============================] - 0s 7ms/step - loss: 0.5360 - accuracy: 0.7610 - val_loss: 0.5443 - val_accuracy: 0.7253\n",
      "Epoch 9/50\n",
      "8/8 [==============================] - 0s 7ms/step - loss: 0.5030 - accuracy: 0.7665 - val_loss: 0.5072 - val_accuracy: 0.7582\n",
      "Epoch 10/50\n",
      "8/8 [==============================] - 0s 7ms/step - loss: 0.4654 - accuracy: 0.8132 - val_loss: 0.4806 - val_accuracy: 0.7912\n",
      "Epoch 11/50\n",
      "8/8 [==============================] - 0s 7ms/step - loss: 0.4338 - accuracy: 0.8434 - val_loss: 0.4547 - val_accuracy: 0.8462\n",
      "Epoch 12/50\n",
      "8/8 [==============================] - 0s 7ms/step - loss: 0.4073 - accuracy: 0.8544 - val_loss: 0.4266 - val_accuracy: 0.8462\n",
      "Epoch 13/50\n",
      "8/8 [==============================] - 0s 7ms/step - loss: 0.3860 - accuracy: 0.8626 - val_loss: 0.4015 - val_accuracy: 0.8462\n",
      "Epoch 14/50\n",
      "8/8 [==============================] - 0s 7ms/step - loss: 0.3642 - accuracy: 0.8791 - val_loss: 0.3888 - val_accuracy: 0.8352\n",
      "Epoch 15/50\n",
      "8/8 [==============================] - 0s 5ms/step - loss: 0.3477 - accuracy: 0.8791 - val_loss: 0.3691 - val_accuracy: 0.8571\n",
      "Epoch 16/50\n",
      "8/8 [==============================] - 0s 7ms/step - loss: 0.3320 - accuracy: 0.8819 - val_loss: 0.3536 - val_accuracy: 0.8681\n",
      "Epoch 17/50\n",
      "8/8 [==============================] - 0s 7ms/step - loss: 0.3177 - accuracy: 0.8901 - val_loss: 0.3392 - val_accuracy: 0.8791\n",
      "Epoch 18/50\n",
      "8/8 [==============================] - 0s 8ms/step - loss: 0.3061 - accuracy: 0.8984 - val_loss: 0.3310 - val_accuracy: 0.8462\n",
      "Epoch 19/50\n",
      "8/8 [==============================] - 0s 8ms/step - loss: 0.2954 - accuracy: 0.8984 - val_loss: 0.3227 - val_accuracy: 0.8462\n",
      "Epoch 20/50\n",
      "8/8 [==============================] - 0s 7ms/step - loss: 0.2867 - accuracy: 0.9011 - val_loss: 0.3114 - val_accuracy: 0.8681\n",
      "Epoch 21/50\n",
      "8/8 [==============================] - 0s 7ms/step - loss: 0.2751 - accuracy: 0.9011 - val_loss: 0.3023 - val_accuracy: 0.8791\n",
      "Epoch 22/50\n",
      "8/8 [==============================] - 0s 6ms/step - loss: 0.2672 - accuracy: 0.9011 - val_loss: 0.2865 - val_accuracy: 0.9121\n",
      "Epoch 23/50\n",
      "8/8 [==============================] - 0s 6ms/step - loss: 0.2579 - accuracy: 0.9066 - val_loss: 0.2793 - val_accuracy: 0.9121\n",
      "Epoch 24/50\n",
      "8/8 [==============================] - 0s 7ms/step - loss: 0.2501 - accuracy: 0.9093 - val_loss: 0.2714 - val_accuracy: 0.9341\n",
      "Epoch 25/50\n",
      "8/8 [==============================] - 0s 7ms/step - loss: 0.2422 - accuracy: 0.9121 - val_loss: 0.2583 - val_accuracy: 0.9341\n",
      "Epoch 26/50\n",
      "8/8 [==============================] - 0s 6ms/step - loss: 0.2354 - accuracy: 0.9148 - val_loss: 0.2528 - val_accuracy: 0.9341\n",
      "Epoch 27/50\n",
      "8/8 [==============================] - 0s 7ms/step - loss: 0.2295 - accuracy: 0.9148 - val_loss: 0.2448 - val_accuracy: 0.9341\n",
      "Epoch 28/50\n",
      "8/8 [==============================] - 0s 6ms/step - loss: 0.2220 - accuracy: 0.9176 - val_loss: 0.2367 - val_accuracy: 0.9341\n",
      "Epoch 29/50\n",
      "8/8 [==============================] - 0s 7ms/step - loss: 0.2160 - accuracy: 0.9203 - val_loss: 0.2288 - val_accuracy: 0.9341\n",
      "Epoch 30/50\n",
      "8/8 [==============================] - 0s 6ms/step - loss: 0.2100 - accuracy: 0.9176 - val_loss: 0.2244 - val_accuracy: 0.9341\n",
      "Epoch 31/50\n",
      "8/8 [==============================] - 0s 7ms/step - loss: 0.2068 - accuracy: 0.9203 - val_loss: 0.2165 - val_accuracy: 0.9341\n",
      "Epoch 32/50\n",
      "8/8 [==============================] - 0s 5ms/step - loss: 0.2231 - accuracy: 0.8984 - val_loss: 0.2942 - val_accuracy: 0.8462\n",
      "Epoch 33/50\n",
      "8/8 [==============================] - 0s 6ms/step - loss: 0.2367 - accuracy: 0.8874 - val_loss: 0.2293 - val_accuracy: 0.9121\n",
      "Epoch 34/50\n",
      "8/8 [==============================] - 0s 6ms/step - loss: 0.1971 - accuracy: 0.9313 - val_loss: 0.1906 - val_accuracy: 0.9231\n",
      "Epoch 35/50\n",
      "8/8 [==============================] - 0s 6ms/step - loss: 0.1904 - accuracy: 0.9396 - val_loss: 0.1872 - val_accuracy: 0.9231\n",
      "Epoch 36/50\n",
      "8/8 [==============================] - 0s 6ms/step - loss: 0.1824 - accuracy: 0.9341 - val_loss: 0.1831 - val_accuracy: 0.9231\n",
      "Epoch 37/50\n",
      "8/8 [==============================] - 0s 7ms/step - loss: 0.1771 - accuracy: 0.9368 - val_loss: 0.1778 - val_accuracy: 0.9231\n",
      "Epoch 38/50\n",
      "8/8 [==============================] - 0s 7ms/step - loss: 0.1721 - accuracy: 0.9423 - val_loss: 0.1741 - val_accuracy: 0.9231\n",
      "Epoch 39/50\n",
      "8/8 [==============================] - 0s 7ms/step - loss: 0.1688 - accuracy: 0.9368 - val_loss: 0.1707 - val_accuracy: 0.9341\n",
      "Epoch 40/50\n",
      "8/8 [==============================] - 0s 8ms/step - loss: 0.1636 - accuracy: 0.9423 - val_loss: 0.1634 - val_accuracy: 0.9231\n",
      "Epoch 41/50\n",
      "8/8 [==============================] - 0s 6ms/step - loss: 0.1596 - accuracy: 0.9451 - val_loss: 0.1550 - val_accuracy: 0.9341\n",
      "Epoch 42/50\n",
      "8/8 [==============================] - 0s 7ms/step - loss: 0.1571 - accuracy: 0.9505 - val_loss: 0.1522 - val_accuracy: 0.9341\n",
      "Epoch 43/50\n",
      "8/8 [==============================] - 0s 5ms/step - loss: 0.1521 - accuracy: 0.9505 - val_loss: 0.1532 - val_accuracy: 0.9341\n",
      "Epoch 44/50\n",
      "8/8 [==============================] - 0s 5ms/step - loss: 0.1494 - accuracy: 0.9451 - val_loss: 0.1487 - val_accuracy: 0.9341\n",
      "Epoch 45/50\n",
      "8/8 [==============================] - 0s 7ms/step - loss: 0.1468 - accuracy: 0.9560 - val_loss: 0.1396 - val_accuracy: 0.9341\n",
      "Epoch 46/50\n",
      "8/8 [==============================] - 0s 7ms/step - loss: 0.1429 - accuracy: 0.9533 - val_loss: 0.1406 - val_accuracy: 0.9341\n",
      "Epoch 47/50\n",
      "8/8 [==============================] - 0s 6ms/step - loss: 0.1402 - accuracy: 0.9505 - val_loss: 0.1360 - val_accuracy: 0.9341\n",
      "Epoch 48/50\n",
      "8/8 [==============================] - 0s 7ms/step - loss: 0.1381 - accuracy: 0.9505 - val_loss: 0.1425 - val_accuracy: 0.9560\n",
      "Epoch 49/50\n",
      "8/8 [==============================] - 0s 6ms/step - loss: 0.1360 - accuracy: 0.9478 - val_loss: 0.1288 - val_accuracy: 0.9341\n",
      "Epoch 50/50\n",
      "8/8 [==============================] - 0s 7ms/step - loss: 0.1310 - accuracy: 0.9478 - val_loss: 0.1220 - val_accuracy: 0.9341\n"
     ]
    },
    {
     "data": {
      "text/plain": [
       "<keras.src.callbacks.History at 0x21a0886ded0>"
      ]
     },
     "execution_count": 1,
     "metadata": {},
     "output_type": "execute_result"
    }
   ],
   "source": [
    "from sklearn.datasets import load_breast_cancer\n",
    "from sklearn.preprocessing import MinMaxScaler\n",
    "from sklearn.model_selection import train_test_split\n",
    "dataset=load_breast_cancer()\n",
    "x=dataset['data']\n",
    "y=dataset['target']\n",
    "sacle=MinMaxScaler()\n",
    "x_scale=sacle.fit_transform(x)\n",
    "X_train,X_test,y_train,y_test=train_test_split(x_scale,y,test_size=0.2,random_state=45)\n",
    "import tensorflow as tf\n",
    "from tensorflow.keras.layers import Dense\n",
    "from tensorflow.keras.optimizers import Adam\n",
    "from tensorflow.keras.models import Sequential\n",
    "Modal=Sequential([\n",
    " Dense(32,input_shape=x[0].shape,activation=\"tanh\"),\n",
    " Dense(100,activation=\"tanh\"),\n",
    " Dense(1,activation=\"tanh\")\n",
    "])\n",
    "Modal.compile(optimizer=Adam(learning_rate=0.001),loss=\"binary_crossentropy\",metrics=['accuracy'])\n",
    "Modal.fit(X_train,y_train,epochs=50,batch_size=50,validation_split=0.2)"
   ]
  },
  {
   "cell_type": "markdown",
   "id": "b0ab9efb",
   "metadata": {},
   "source": [
    "# MSE (Mean Squared error):- \n",
    "## ->  Mean squared error (MSE) measures the amount of error in statistical models. It assesses the average squared difference between the observed and predicted values. When a model has no error, the MSE equals zero. As model error increases, its value increases. The mean squared error is also known as the mean squared deviation (MSD).\n",
    "\n",
    "## For example, in regression, the mean squared error represents the average squared residual.\n",
    "<a href=\"http://ibb.co/f8Epqx\"><img src=\"https://i0.wp.com/statisticsbyjim.com/wp-content/uploads/2017/04/residuals.png?resize=300%2C186&ssl=1\" alt=\"2\" border=\"0\"></a>\n",
    "## Image depicting the relationship between the residuals and the mean squared error.\n",
    "\n",
    "## As the data points fall closer to the regression line, the model has less error, decreasing the MSE. A model with less error produces more precise predictions."
   ]
  },
  {
   "cell_type": "markdown",
   "id": "7eb15a5c",
   "metadata": {},
   "source": [
    "# MSE Formula :-\n",
    "<a href=\"http://ibb.co/f8Epqx\"><img src=\"https://i0.wp.com/statisticsbyjim.com/wp-content/uploads/2021/11/mse_formula.png?resize=246%2C78&ssl=1\" alt=\"2\" border=\"0\"></a>\n",
    "## Where:\n",
    "\n",
    "* yi is the ith observed value.\n",
    "* ŷi is the corresponding predicted value.\n",
    "* n = the number of observations."
   ]
  },
  {
   "cell_type": "markdown",
   "id": "65eb0192",
   "metadata": {},
   "source": [
    "# Advantage :-\n",
    "## 1.) Easy to intreupt.\n",
    "## 2.) Differentiable for gredient desent in otherword gd apply easily .\n",
    "## 3.) 1 local minima."
   ]
  },
  {
   "cell_type": "markdown",
   "id": "e5bfdf52",
   "metadata": {},
   "source": [
    "# Disadvantage :-\n",
    "## 1.) Error unit (squared) 2^1=2,2^2=4,2^3=8,2^4=16,......\n",
    "## 2.) Not Robust to outlier (Too handle the outlier it daveate the line by gernating big weight.).\n",
    "## 3.) last neuron activation layer must be linear.\n",
    "\n",
    "# Note :- It good when dataset have small outlier."
   ]
  },
  {
   "cell_type": "markdown",
   "id": "26362875",
   "metadata": {},
   "source": [
    "# MAE(Mean Absolute Error):-\n",
    "## It is a another type of  (loss/cost) fuction which use too mesure the loss and mesure the performance of a model on prediction.It is similar too mse but it find the mode of error.\n",
    "\n",
    "# Formula :-\n",
    "<a href=\"http://ibb.co/f8Epqx\"><img src=\"data:image/jpeg;base64,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\" alt=\"2\" border=\"0\"></a>\n",
    "\n",
    "# Advantage :- \n",
    "\n",
    "## 1.) Easy to understand and implement\n",
    "## 2.) Unit is same as to y (ex:- if target is in (LPA/any scale) then it also the same scale )\n",
    "## 3.) best for outlier data\n",
    "\n",
    "\n",
    "# Disadvantage :- \n",
    "\n",
    "## -> In which we can't calculate gradient desent directly because it is not differentiable so, we can it handle subgradients. \n",
    "<a href=\"http://ibb.co/f8Epqx\"><img src=\"https://ocw.mit.edu/ans7870/18/18.013a/textbook/HTML/chapter06/images/abs.gif\" alt=\"2\" border=\"0\"></a>\n"
   ]
  },
  {
   "cell_type": "markdown",
   "id": "507036d0",
   "metadata": {},
   "source": [
    "# Huber loss :-\n",
    "## -> It is a combination of mse or mae .\n",
    "## -> In mse ,it try too treat the outliers.\n",
    "## -> In mae ,it try too treat the clean data.\n",
    "## -> so, huber loss able too gernate the line b/w both mse or mae.\n",
    "\n",
    "# Graph :-\n",
    "<a href=\"http://ibb.co/f8Epqx\"><img src=\"data:image/png;base64,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\" alt=\"2\" border=\"0\"></a>\n",
    "\n",
    "# Formula :- \n",
    "<a href=\"http://ibb.co/f8Epqx\"><img src=\"data:image/png;base64,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\"></a>"
   ]
  },
  {
   "cell_type": "markdown",
   "id": "900aea4f",
   "metadata": {},
   "source": [
    "# Catagorical Crossentropy :-\n",
    "\n",
    "## -> It is type of loss function which use in Multi-class datasets.\n",
    "## -> in which the no. of neuron on last layer is equal to no. of classes in dataset.\n",
    "## -> activation fuction in output layer is used is Softmax.\n",
    "## -> class must be one-hot encode .\n",
    "\n",
    "# Formula :- \n",
    "<a href=\"http://ibb.co/f8Epqx\"><img src=\"data:image/png;base64,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\" alt=\"2\" border=\"0\"></a>\n"
   ]
  },
  {
   "cell_type": "markdown",
   "id": "610f3951",
   "metadata": {},
   "source": [
    "# Sparse Catagorical Crossentropy :-\n",
    "## -> It same as cross Catagorical Crossentropy Different is  it doesn't required one_hot encoding and less computational as compered to cross Catagorical Crossentropy .\n",
    "\n",
    "# Formula :- \n",
    "<a href=\"http://ibb.co/f8Epqx\"><img src=\"data:image/png;base64,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\" alt=\"2\" border=\"0\"></a>"
   ]
  },
  {
   "cell_type": "code",
   "execution_count": null,
   "id": "16834e9f",
   "metadata": {},
   "outputs": [],
   "source": []
  }
 ],
 "metadata": {
  "kernelspec": {
   "display_name": "Python 3 (ipykernel)",
   "language": "python",
   "name": "python3"
  },
  "language_info": {
   "codemirror_mode": {
    "name": "ipython",
    "version": 3
   },
   "file_extension": ".py",
   "mimetype": "text/x-python",
   "name": "python",
   "nbconvert_exporter": "python",
   "pygments_lexer": "ipython3",
   "version": "3.10.9"
  }
 },
 "nbformat": 4,
 "nbformat_minor": 5
}
