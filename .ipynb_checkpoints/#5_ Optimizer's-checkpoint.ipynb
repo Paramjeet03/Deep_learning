{
 "cells": [
  {
   "cell_type": "markdown",
   "id": "f5b6ee84",
   "metadata": {},
   "source": [
    "# What is Optimizer's ?\n",
    "## -> Optimizers are algorithms that adjust a neural network's parameters during training to minimize the model's error or loss function. They are a crucial part of deep learning because they help to:\n",
    "# 1) Improve performance :-\n",
    "## -> Optimizers help to improve the accuracy of predictions by finding the best set of parameters for the model.\n",
    "# 2) Speed up training :-\n",
    "## -> Optimizers help to speed up the training process by efficiently finding the optimal parameters. Without optimizers, training deep networks could be very slow and might get stuck in suboptimal solutions.\n",
    "# 3) Balance exploration and exploitation :-\n",
    "## -> Optimizers use various strategies to balance exploration and exploitation, helping to escape local minima and converge to optimal solutions.\n",
    "# 4) Choose the right optimizer :-\n",
    "## ->Selecting the right optimizer for the task at hand is important for achieving the best possible training results."
   ]
  },
  {
   "cell_type": "markdown",
   "id": "ae8b6ab9",
   "metadata": {},
   "source": [
    "# Important Deep Learning Terms :-\n",
    "## -> Before proceeding, there are a few terms that you should be familiar with.\n",
    "\n",
    ">Epoch – The number of times the algorithm runs on the whole training dataset.\n",
    "\n",
    ">Sample – A single row of a dataset.\n",
    "\n",
    ">Batch – It denotes the number of samples to be taken to for updating the model parameters.\n",
    "\n",
    ">Learning rate – It is a parameter that provides the model a scale of how much model weights should be updated.\n",
    "\n",
    ">Cost Function/Loss Function – A cost function is used to calculate the cost, which is the difference between the predicted value and the actual value.\n",
    "\n",
    ">Weights/ Bias – The learnable parameters in a model that controls the signal between two neurons."
   ]
  },
  {
   "cell_type": "markdown",
   "id": "97ce6401",
   "metadata": {},
   "source": [
    "# TYPES OF OPTIMIZERS :\n",
    "\n",
    "## 1.) Gradient Descent\n",
    "## 2.) Stochastic Gradient Descent\n",
    "## 3.) Adagrad\n",
    "## 4.) Adadelta\n",
    "## 5.) RMSprop\n",
    "## 6.) Adam"
   ]
  },
  {
   "cell_type": "markdown",
   "id": "33936c58",
   "metadata": {},
   "source": [
    "# 1) Gradient Descent :- \n",
    "## -> Gradient Descent can be considered the popular kid among the class of optimizers in deep learning. This optimization algorithm uses calculus to consistently modify the values and achieve the local minimum. Before moving ahead, you might question what a gradient is.\n",
    "\n",
    "## In simple terms, consider you are holding a ball resting at the top of a bowl. When you lose the ball, it goes along the steepest direction and eventually settles at the bottom of the bowl. A Gradient provides the ball in the steepest direction to reach the local minimum which is the bottom of the bowl.\n",
    "<a href=\"http://ibb.co/f8Epqx\"><img src=\"https://av-eks-blogoptimized.s3.amazonaws.com/31205gd6147.png\" alt=\"2\" border=\"0\"></a>"
   ]
  },
  {
   "cell_type": "markdown",
   "id": "0f3528a6",
   "metadata": {},
   "source": [
    "# Code :-\n",
    "# For Intercept (\" C \"):- "
   ]
  },
  {
   "cell_type": "code",
   "execution_count": 1,
   "id": "dee26315",
   "metadata": {},
   "outputs": [],
   "source": [
    "from sklearn.datasets import make_regression\n",
    "import matplotlib.pyplot as plt\n",
    "import numpy as np\n"
   ]
  },
  {
   "cell_type": "code",
   "execution_count": 2,
   "id": "ce89f274",
   "metadata": {},
   "outputs": [],
   "source": [
    "x,y=make_regression(n_samples=100,n_features=1,n_informative=1,n_targets=1,noise=20)"
   ]
  },
  {
   "cell_type": "code",
   "execution_count": 3,
   "id": "90fc725a",
   "metadata": {},
   "outputs": [
    {
     "data": {
      "image/png": "[encoded data removed]",
      "text/plain": [
       "<Figure size 640x480 with 1 Axes>"
      ]
     },
     "metadata": {},
     "output_type": "display_data"
    }
   ],
   "source": [
    "plt.scatter(x,y)\n",
    "plt.show()"
   ]
  },
  {
   "cell_type": "code",
   "execution_count": 4,
   "id": "25508e24",
   "metadata": {},
   "outputs": [],
   "source": [
    "from sklearn.linear_model import LinearRegression\n",
    "l_r=LinearRegression()"
   ]
  },
  {
   "cell_type": "code",
   "execution_count": 6,
   "id": "e3977584",
   "metadata": {},
   "outputs": [
    {
     "name": "stdout",
     "output_type": "stream",
     "text": [
      "[28.3885678] \n",
      " 2.2994231718345537\n"
     ]
    }
   ],
   "source": [
    "l_r.fit(x,y)\n",
    "print(l_r.coef_,\"\\n\",l_r.intercept_)"
   ]
  },
  {
   "cell_type": "code",
   "execution_count": null,
   "id": "f438b26c",
   "metadata": {},
   "outputs": [],
   "source": []
  },
  {
   "cell_type": "code",
   "execution_count": 7,
   "id": "2879bf6f",
   "metadata": {},
   "outputs": [],
   "source": [
    "class Gdregressor:\n",
    "    def __init__(self,Learning_rate,epochs):\n",
    "        self.m=28.3885678\n",
    "        self.b=-120\n",
    "        self.lr=Learning_rate\n",
    "        self.epochs=epochs\n",
    "    def fit(self,x,y):\n",
    "        for i in range(self.epochs):\n",
    "            loss_slope=-2*np.sum(y-self.m*x.ravel()-self.b)\n",
    "            self.b=self.b-(self.lr*loss_slope)\n",
    "            print(self.b)\n",
    "            "
   ]
  },
  {
   "cell_type": "code",
   "execution_count": 9,
   "id": "ea0d5ea8",
   "metadata": {},
   "outputs": [
    {
     "name": "stdout",
     "output_type": "stream",
     "text": [
      "-95.54011536572793\n",
      "-75.97220765831027\n",
      "-60.317881492376145\n",
      "-47.79442055962885\n",
      "-37.775651813431004\n",
      "-29.760636816472733\n",
      "-23.348624818906114\n",
      "-18.219015220852818\n",
      "-14.115327542410181\n",
      "-10.832377399656073\n",
      "-8.206017285452784\n",
      "-6.104929194090154\n",
      "-4.42405872100005\n",
      "-3.0793623425279675\n",
      "-2.0036052397503012\n",
      "-1.1429995575281684\n",
      "-0.45451501175046183\n",
      "0.09627262487170318\n",
      "0.5369027341694353\n",
      "0.889406821607621\n",
      "1.1714100915581693\n",
      "1.397012707518608\n",
      "1.577494800286959\n",
      "1.72188047450164\n",
      "1.837389013873385\n",
      "1.9297958453707809\n",
      "2.0037213105686975\n",
      "2.0628616827270307\n",
      "2.1101739804536974\n",
      "2.1480238186350307\n",
      "2.178303689180097\n",
      "2.2025275856161506\n",
      "2.221906702764993\n",
      "2.2374099964840672\n",
      "2.2498126314593265\n",
      "2.259734739439534\n",
      "2.2676724258236995\n",
      "2.2740225749310325\n",
      "2.279102694216899\n",
      "2.283166789645592\n",
      "2.2864180659885465\n",
      "2.28901908706291\n",
      "2.2910999039224005\n",
      "2.2927645574099933\n",
      "2.2940962802000673\n",
      "2.2951616584321264\n",
      "2.2960139610177737\n",
      "2.2966958030862914\n",
      "2.2972412767411057\n",
      "2.297677655664957\n",
      "2.2980267588040384\n",
      "2.2983060413153034\n",
      "2.2985294673243155\n",
      "2.2987082081315253\n",
      "2.298851200777293\n",
      "2.298965594893907\n",
      "2.2990571101871984\n",
      "2.2991303224218314\n",
      "2.299188892209538\n",
      "2.299235748039703\n",
      "2.299273232703835\n",
      "2.299303220435141\n",
      "2.2993272106201856\n",
      "2.2993464027682213\n",
      "2.2993617564866495\n",
      "2.299374039461392\n",
      "2.2993838658411865\n",
      "2.299391726945022\n",
      "2.29939801582809\n",
      "2.299403046934545\n",
      "2.299407071819709\n",
      "2.29941029172784\n",
      "2.299412867654345\n",
      "2.2994149283955485\n",
      "2.2994165769885115\n",
      "2.2994178958628817\n",
      "2.2994189509623784\n",
      "2.2994197950419757\n",
      "2.299420470305653\n",
      "2.2994210105165953\n",
      "2.299421442685349\n",
      "2.299421788420352\n",
      "2.299422065008354\n",
      "2.2994222862787557\n",
      "2.2994224632950773\n",
      "2.2994226049081345\n",
      "2.2994227181985805\n",
      "2.299422808830937\n",
      "2.2994228813368225\n",
      "2.2994229393415306\n",
      "2.2994229857452972\n",
      "2.2994230228683104\n",
      "2.2994230525667207\n",
      "2.299423076325449\n",
      "2.299423095332432\n",
      "2.2994231105380183\n",
      "2.2994231227024873\n",
      "2.299423132434063\n",
      "2.299423140219323\n",
      "2.299423146447531\n"
     ]
    }
   ],
   "source": [
    "gd = Gdregressor(0.001,100)\n",
    "gd.fit(x,y)"
   ]
  },
  {
   "cell_type": "markdown",
   "id": "1dab7d0c",
   "metadata": {},
   "source": [
    "# -> There are 3 types of gradiant descent :- \n",
    "## 1.) Batch gradient descent\n",
    "## 2.) Stochastic gradient descent (SGD)\n",
    "## 3.) Mini-batch gradient descent                                                     "
   ]
  },
  {
   "cell_type": "markdown",
   "id": "07e02969",
   "metadata": {},
   "source": [
    "# 1.) Batch gradient descent :- \n",
    "## -> In Batch Gradient Descent, all the training data is taken into consideration to take a single step. We take the average of the gradients of all the training examples and then use that mean gradient to update our parameters. So that’s just one step of gradient descent in one epoch.\n",
    "\n",
    "## Batch Gradient Descent is great for convex or relatively smooth error manifolds. In this case, we move somewhat directly towards an optimum solution.\n",
    "\n",
    "<a href=\"http://ibb.co/f8Epqx\"><img src=\"https://miro.medium.com/v2/resize:fit:750/format:webp/1*44QbDJ9gJvw8tXtHNVLoCA.png\" alt=\"2\" border=\"0\"></a>\n"
   ]
  },
  {
   "cell_type": "markdown",
   "id": "75458d05",
   "metadata": {},
   "source": [
    "## The graph of cost v/s epochs is also quite smooth because we are averaging over all the gradients of training data for a single step. The cost keeps on decreasing over the epochs."
   ]
  },
  {
   "cell_type": "code",
   "execution_count": null,
   "id": "6528c91b",
   "metadata": {},
   "outputs": [],
   "source": []
  }
 ],
 "metadata": {
  "kernelspec": {
   "display_name": "Python 3 (ipykernel)",
   "language": "python",
   "name": "python3"
  },
  "language_info": {
   "codemirror_mode": {
    "name": "ipython",
    "version": 3
   },
   "file_extension": ".py",
   "mimetype": "text/x-python",
   "name": "python",
   "nbconvert_exporter": "python",
   "pygments_lexer": "ipython3",
   "version": "3.10.9"
  }
 },
 "nbformat": 4,
 "nbformat_minor": 5
}
